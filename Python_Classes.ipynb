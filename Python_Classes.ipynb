{
  "nbformat": 4,
  "nbformat_minor": 0,
  "metadata": {
    "colab": {
      "provenance": [],
      "authorship_tag": "ABX9TyOgn0lwuC6jQ+fEJLDpHObw",
      "include_colab_link": true
    },
    "kernelspec": {
      "name": "python3",
      "display_name": "Python 3"
    },
    "language_info": {
      "name": "python"
    }
  },
  "cells": [
    {
      "cell_type": "markdown",
      "metadata": {
        "id": "view-in-github",
        "colab_type": "text"
      },
      "source": [
        "<a href=\"https://colab.research.google.com/github/filipecarbonera/Python_Studies/blob/main/Python_Classes.ipynb\" target=\"_parent\"><img src=\"https://colab.research.google.com/assets/colab-badge.svg\" alt=\"Open In Colab\"/></a>"
      ]
    },
    {
      "cell_type": "code",
      "execution_count": null,
      "metadata": {
        "colab": {
          "base_uri": "https://localhost:8080/"
        },
        "id": "K7-rUJTvZizz",
        "outputId": "d7a7cfe0-90b4-4fbd-de19-d54fcc246d05"
      },
      "outputs": [
        {
          "output_type": "stream",
          "name": "stdout",
          "text": [
            "Here is my first class!\n"
          ]
        }
      ],
      "source": [
        "# Creating my fist class in python.\n",
        "class My_first_class:\n",
        " print(\"Here is my first class!\")"
      ]
    },
    {
      "cell_type": "code",
      "source": [
        "# Instantiating the class to a variable.\n",
        "my_class = My_first_class()"
      ],
      "metadata": {
        "id": "o7iTpSKTZ0e5"
      },
      "execution_count": null,
      "outputs": []
    },
    {
      "cell_type": "code",
      "source": [
        "# Printing the variable with the class.\n",
        "print(my_class)"
      ],
      "metadata": {
        "colab": {
          "base_uri": "https://localhost:8080/"
        },
        "id": "CSXB9LvHaCcY",
        "outputId": "65150728-f783-4f12-c68c-09182aaa1a00"
      },
      "execution_count": null,
      "outputs": [
        {
          "output_type": "stream",
          "name": "stdout",
          "text": [
            "<__main__.My_first_class object at 0x79af1d228f70>\n"
          ]
        }
      ]
    },
    {
      "cell_type": "code",
      "source": [
        "# Create a class.\n",
        "class Promotion_Discount:\n",
        "  # Create a class variable.\n",
        "  min_discount = 0.15\n",
        "\n",
        "# Instantiating the class to a variable.\n",
        "discount = Promotion_Discount()\n",
        "\n",
        "# Printing the value of the class variable.\n",
        "print(discount.min_discount)"
      ],
      "metadata": {
        "colab": {
          "base_uri": "https://localhost:8080/"
        },
        "id": "dembeklUanGo",
        "outputId": "fe5022fb-bfc8-4b53-b300-e80b5e14afe0"
      },
      "execution_count": null,
      "outputs": [
        {
          "output_type": "stream",
          "name": "stdout",
          "text": [
            "0.15\n"
          ]
        }
      ]
    },
    {
      "cell_type": "code",
      "source": [
        "# Create a class.\n",
        "class Promotion_Discount:\n",
        "  # Create a class variable.\n",
        "  min_discount = 0.15\n",
        "  # Creating a method in the class.\n",
        "  def discount_rate(self):\n",
        "    print(\"The minimum discount rate of this campaign is {}%.\".format(100*self.min_discount))\n",
        "\n",
        "# Instantiating the class to a variable.\n",
        "discount = Promotion_Discount()\n",
        "# Instantiating the method to a variable.\n",
        "campaign_discount = discount.discount_rate()\n",
        "# Printing the method variable.\n",
        "campaign_discount"
      ],
      "metadata": {
        "colab": {
          "base_uri": "https://localhost:8080/"
        },
        "id": "hLvoDh4AuWIV",
        "outputId": "7d87970c-feb0-4364-8b99-ca2a9c568eea"
      },
      "execution_count": null,
      "outputs": [
        {
          "output_type": "stream",
          "name": "stdout",
          "text": [
            "The minimum discount rate of this campaign is 15.0%.\n"
          ]
        }
      ]
    },
    {
      "cell_type": "code",
      "source": [
        "# Create a class.\n",
        "class Promotion_Discount:\n",
        "  # Create a class variable.\n",
        "  min_discount = 0.15\n",
        "  # Create a method.\n",
        "  def price_discount(self, item_price):\n",
        "    # Return the item price after discount.\n",
        "    return item_price * (1-self.min_discount)\n",
        "\n",
        "# Instantiating the class to a variable.\n",
        "discount = Promotion_Discount()\n",
        "# Applying the method of the class with a given value.\n",
        "discount_price = discount.price_discount(10)\n",
        "# Printing the result os the applied method.\n",
        "print(discount_price)"
      ],
      "metadata": {
        "colab": {
          "base_uri": "https://localhost:8080/"
        },
        "id": "gfRRjjYWv4cs",
        "outputId": "d38be5db-a955-493f-a900-60990a53191d"
      },
      "execution_count": null,
      "outputs": [
        {
          "output_type": "stream",
          "name": "stdout",
          "text": [
            "8.5\n"
          ]
        }
      ]
    },
    {
      "cell_type": "code",
      "source": [
        "# Create a class.\n",
        "class Promotion_Discount:\n",
        "  # Create a class variable.\n",
        "  min_discount = 0.15\n",
        "  # Create a method.\n",
        "  def __init__(self, discount_rate):\n",
        "    # Conditioning the method to the class variable.\n",
        "    if discount_rate > self.min_discount:\n",
        "      print(\"The discount is too much!\")\n",
        "    else:\n",
        "      print(\"The discount is less than minimum.\")\n",
        "\n",
        "# Instantiating the class to a variable.\n",
        "discount_1 = Promotion_Discount(0.2)"
      ],
      "metadata": {
        "colab": {
          "base_uri": "https://localhost:8080/"
        },
        "id": "CDiEkODkydkD",
        "outputId": "4f93a7a6-be8d-4eff-e4b0-22d448058c2e"
      },
      "execution_count": null,
      "outputs": [
        {
          "output_type": "stream",
          "name": "stdout",
          "text": [
            "The discount is too much!\n"
          ]
        }
      ]
    },
    {
      "cell_type": "code",
      "source": [
        "# Usually, __init__() method is used to assign values to class variables from the inputs into the class.\n",
        "\n",
        "class User_info:\n",
        " def __init__(self, name, age, sex):\n",
        "  self.name = name\n",
        "  self.age = age\n",
        "  self.sex = sex\n",
        " def define_age(self):\n",
        "  if self.age >=65:\n",
        "   print(\"This person can be retired now.\")\n",
        "  else:\n",
        "   print(\"This person can still work.\")\n",
        "\n",
        "user_1 = User_info(\"Jessica\", 45, \"F\")\n",
        "print(user_1.name)\n",
        "user_1.define_age()"
      ],
      "metadata": {
        "colab": {
          "base_uri": "https://localhost:8080/"
        },
        "id": "M-uA8Yw00DkD",
        "outputId": "d26c8fe8-cc95-45cb-feb0-68d4976f20ae"
      },
      "execution_count": null,
      "outputs": [
        {
          "output_type": "stream",
          "name": "stdout",
          "text": [
            "Jessica\n",
            "This person can still work.\n"
          ]
        }
      ]
    },
    {
      "cell_type": "code",
      "source": [
        "# Creating a class with multiple methods and variables.\n",
        "\n",
        "class Car:\n",
        "\n",
        "  def __init__(self, model, color):\n",
        "    self.model = model\n",
        "    self.color = color\n",
        "    self.car_on = False\n",
        "    self.speed = 0\n",
        "\n",
        "  def turn_on(self):\n",
        "    if not self.car_on:\n",
        "      print(f\"{self.model} ligado.\")\n",
        "      self.car_on = True\n",
        "    else:\n",
        "      print(f\"{self.model} já está ligado.\")\n",
        "\n",
        "  def turn_off(self):\n",
        "    if self.car_on:\n",
        "      print(f\"{self.model} desligado.\")\n",
        "      self.car_on = False\n",
        "      self.speed = 0\n",
        "    else:\n",
        "      print(f\"{self.model} já está desligado.\")\n",
        "\n",
        "  def speed_up_car(self,amount):\n",
        "    if self.car_on:\n",
        "      self.speed += amount\n",
        "      print(f\"{self.model} acelerou para {self.speed} km/h.\")\n",
        "    else:\n",
        "      print(f\"{self.model} está desligado. Ligue o carro para acelerar.\")\n",
        "\n",
        "  def break_car(self, amount):\n",
        "    if self.car_on and self.speed > amount:\n",
        "      self.speed -= amount\n",
        "      print(f\"{self.model} reduziu a velocidade para {self.speed} km/h.\")\n",
        "    elif self.car_on:\n",
        "      self.speed = 0\n",
        "      print(f\"{self.model} parou completamente.\")\n",
        "    else:\n",
        "      print(f\"{self.model} está desligado. Ligue o carro para frenar.\")"
      ],
      "metadata": {
        "id": "loBaeDj41F4h"
      },
      "execution_count": null,
      "outputs": []
    },
    {
      "cell_type": "code",
      "source": [
        "# Aplying the class with its methods.\n",
        "my_car = Car(\"Camaro\",\"Amarelo\")\n",
        "my_car.turn_on()\n",
        "my_car.speed_up_car(280)\n",
        "my_car.break_car(200)\n",
        "my_car.break_car(90)\n",
        "my_car.turn_off()"
      ],
      "metadata": {
        "colab": {
          "base_uri": "https://localhost:8080/"
        },
        "id": "RdwOkfiP4DdW",
        "outputId": "7130db68-9ca0-44b9-fe4c-611bebaffcb2"
      },
      "execution_count": null,
      "outputs": [
        {
          "output_type": "stream",
          "name": "stdout",
          "text": [
            "Camaro ligado.\n",
            "Camaro acelerou para 280 km/h.\n",
            "Camaro reduziu a velocidade para 80 km/h.\n",
            "Camaro parou completamente.\n",
            "Camaro desligado.\n"
          ]
        }
      ]
    }
  ]
}