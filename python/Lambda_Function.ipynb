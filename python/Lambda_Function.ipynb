{
  "cells": [
    {
      "cell_type": "code",
      "execution_count": 1,
      "metadata": {
        "id": "NfgJrkJt2Qvd"
      },
      "outputs": [],
      "source": [
        "# Importing pandas\n",
        "import pandas as pd"
      ]
    },
    {
      "cell_type": "code",
      "execution_count": 2,
      "metadata": {
        "colab": {
          "base_uri": "https://localhost:8080/",
          "height": 143
        },
        "id": "zMpMBrRr6Qek",
        "outputId": "137178a8-64f9-451a-b8ae-d48a9552cf03"
      },
      "outputs": [
        {
          "data": {
            "text/html": [
              "<div>\n",
              "<style scoped>\n",
              "    .dataframe tbody tr th:only-of-type {\n",
              "        vertical-align: middle;\n",
              "    }\n",
              "\n",
              "    .dataframe tbody tr th {\n",
              "        vertical-align: top;\n",
              "    }\n",
              "\n",
              "    .dataframe thead th {\n",
              "        text-align: right;\n",
              "    }\n",
              "</style>\n",
              "<table border=\"1\" class=\"dataframe\">\n",
              "  <thead>\n",
              "    <tr style=\"text-align: right;\">\n",
              "      <th></th>\n",
              "      <th>nome</th>\n",
              "      <th>idade</th>\n",
              "      <th>altura</th>\n",
              "    </tr>\n",
              "  </thead>\n",
              "  <tbody>\n",
              "    <tr>\n",
              "      <th>0</th>\n",
              "      <td>Filipe</td>\n",
              "      <td>26</td>\n",
              "      <td>1.83</td>\n",
              "    </tr>\n",
              "    <tr>\n",
              "      <th>1</th>\n",
              "      <td>Nath</td>\n",
              "      <td>25</td>\n",
              "      <td>1.55</td>\n",
              "    </tr>\n",
              "    <tr>\n",
              "      <th>2</th>\n",
              "      <td>Natan</td>\n",
              "      <td>20</td>\n",
              "      <td>1.76</td>\n",
              "    </tr>\n",
              "  </tbody>\n",
              "</table>\n",
              "</div>"
            ],
            "text/plain": [
              "     nome  idade  altura\n",
              "0  Filipe     26    1.83\n",
              "1    Nath     25    1.55\n",
              "2   Natan     20    1.76"
            ]
          },
          "execution_count": 2,
          "metadata": {},
          "output_type": "execute_result"
        }
      ],
      "source": [
        "# Creating lists to be part of the dataframe\n",
        "nome = ['Filipe','Nath','Natan']\n",
        "idade = [26,25,20]\n",
        "altura = [1.83,1.55,1.76]\n",
        "\n",
        "# Creating the dataframe\n",
        "df = pd.DataFrame({'nome':nome,'idade':idade,'altura':altura})\n",
        "df"
      ]
    },
    {
      "cell_type": "code",
      "execution_count": 3,
      "metadata": {
        "colab": {
          "base_uri": "https://localhost:8080/",
          "height": 143
        },
        "id": "uK3ERnE27X8Z",
        "outputId": "20eba4bf-791d-4a78-a64b-7a0836a56c56"
      },
      "outputs": [
        {
          "data": {
            "text/html": [
              "<div>\n",
              "<style scoped>\n",
              "    .dataframe tbody tr th:only-of-type {\n",
              "        vertical-align: middle;\n",
              "    }\n",
              "\n",
              "    .dataframe tbody tr th {\n",
              "        vertical-align: top;\n",
              "    }\n",
              "\n",
              "    .dataframe thead th {\n",
              "        text-align: right;\n",
              "    }\n",
              "</style>\n",
              "<table border=\"1\" class=\"dataframe\">\n",
              "  <thead>\n",
              "    <tr style=\"text-align: right;\">\n",
              "      <th></th>\n",
              "      <th>nome</th>\n",
              "      <th>idade</th>\n",
              "      <th>altura</th>\n",
              "      <th>idade_meses</th>\n",
              "    </tr>\n",
              "  </thead>\n",
              "  <tbody>\n",
              "    <tr>\n",
              "      <th>0</th>\n",
              "      <td>Filipe</td>\n",
              "      <td>26</td>\n",
              "      <td>1.83</td>\n",
              "      <td>312</td>\n",
              "    </tr>\n",
              "    <tr>\n",
              "      <th>1</th>\n",
              "      <td>Nath</td>\n",
              "      <td>25</td>\n",
              "      <td>1.55</td>\n",
              "      <td>300</td>\n",
              "    </tr>\n",
              "    <tr>\n",
              "      <th>2</th>\n",
              "      <td>Natan</td>\n",
              "      <td>20</td>\n",
              "      <td>1.76</td>\n",
              "      <td>240</td>\n",
              "    </tr>\n",
              "  </tbody>\n",
              "</table>\n",
              "</div>"
            ],
            "text/plain": [
              "     nome  idade  altura  idade_meses\n",
              "0  Filipe     26    1.83          312\n",
              "1    Nath     25    1.55          300\n",
              "2   Natan     20    1.76          240"
            ]
          },
          "execution_count": 3,
          "metadata": {},
          "output_type": "execute_result"
        }
      ],
      "source": [
        "# Applying a lambda function to a determined column and storing it in a new column\n",
        "\n",
        "# A lambda function is applied to the \"age\" column\n",
        "# This function takes the value from the age column and multiplies it by 12\n",
        "# The resulting value is stored in the \"age_months\" column\n",
        "\n",
        "df['idade_meses'] = df['idade'].apply(lambda idade: idade * 12)\n",
        "df"
      ]
    },
    {
      "cell_type": "code",
      "execution_count": 4,
      "metadata": {
        "colab": {
          "base_uri": "https://localhost:8080/",
          "height": 143
        },
        "id": "4R3Xc0HJ8pqj",
        "outputId": "b19ff803-51c0-4284-86d5-f6c19b96ce66"
      },
      "outputs": [
        {
          "data": {
            "text/html": [
              "<div>\n",
              "<style scoped>\n",
              "    .dataframe tbody tr th:only-of-type {\n",
              "        vertical-align: middle;\n",
              "    }\n",
              "\n",
              "    .dataframe tbody tr th {\n",
              "        vertical-align: top;\n",
              "    }\n",
              "\n",
              "    .dataframe thead th {\n",
              "        text-align: right;\n",
              "    }\n",
              "</style>\n",
              "<table border=\"1\" class=\"dataframe\">\n",
              "  <thead>\n",
              "    <tr style=\"text-align: right;\">\n",
              "      <th></th>\n",
              "      <th>nome</th>\n",
              "      <th>idade</th>\n",
              "      <th>altura</th>\n",
              "      <th>idade_meses</th>\n",
              "      <th>idade_altura</th>\n",
              "    </tr>\n",
              "  </thead>\n",
              "  <tbody>\n",
              "    <tr>\n",
              "      <th>0</th>\n",
              "      <td>Filipe</td>\n",
              "      <td>26</td>\n",
              "      <td>1.83</td>\n",
              "      <td>312</td>\n",
              "      <td>47.58</td>\n",
              "    </tr>\n",
              "    <tr>\n",
              "      <th>1</th>\n",
              "      <td>Nath</td>\n",
              "      <td>25</td>\n",
              "      <td>1.55</td>\n",
              "      <td>300</td>\n",
              "      <td>38.75</td>\n",
              "    </tr>\n",
              "    <tr>\n",
              "      <th>2</th>\n",
              "      <td>Natan</td>\n",
              "      <td>20</td>\n",
              "      <td>1.76</td>\n",
              "      <td>240</td>\n",
              "      <td>35.20</td>\n",
              "    </tr>\n",
              "  </tbody>\n",
              "</table>\n",
              "</div>"
            ],
            "text/plain": [
              "     nome  idade  altura  idade_meses  idade_altura\n",
              "0  Filipe     26    1.83          312         47.58\n",
              "1    Nath     25    1.55          300         38.75\n",
              "2   Natan     20    1.76          240         35.20"
            ]
          },
          "execution_count": 4,
          "metadata": {},
          "output_type": "execute_result"
        }
      ],
      "source": [
        "# In this case there is no need for a lambda function\n",
        "df['idade_altura'] = df['idade'] * df['altura']\n",
        "df"
      ]
    },
    {
      "cell_type": "code",
      "execution_count": 5,
      "metadata": {
        "id": "BLk7ds7e9xAm"
      },
      "outputs": [],
      "source": [
        "# Defining a python funcion\n",
        "def desconto(preco):\n",
        "  return preco * 0.9"
      ]
    },
    {
      "cell_type": "code",
      "execution_count": 6,
      "metadata": {
        "colab": {
          "base_uri": "https://localhost:8080/",
          "height": 143
        },
        "id": "VR3GntBW96Pj",
        "outputId": "72b053e5-39ca-48d3-f8b9-fd649f5295dd"
      },
      "outputs": [
        {
          "data": {
            "text/html": [
              "<div>\n",
              "<style scoped>\n",
              "    .dataframe tbody tr th:only-of-type {\n",
              "        vertical-align: middle;\n",
              "    }\n",
              "\n",
              "    .dataframe tbody tr th {\n",
              "        vertical-align: top;\n",
              "    }\n",
              "\n",
              "    .dataframe thead th {\n",
              "        text-align: right;\n",
              "    }\n",
              "</style>\n",
              "<table border=\"1\" class=\"dataframe\">\n",
              "  <thead>\n",
              "    <tr style=\"text-align: right;\">\n",
              "      <th></th>\n",
              "      <th>nome</th>\n",
              "      <th>idade</th>\n",
              "      <th>altura</th>\n",
              "      <th>idade_meses</th>\n",
              "      <th>idade_altura</th>\n",
              "      <th>descontado</th>\n",
              "    </tr>\n",
              "  </thead>\n",
              "  <tbody>\n",
              "    <tr>\n",
              "      <th>0</th>\n",
              "      <td>Filipe</td>\n",
              "      <td>26</td>\n",
              "      <td>1.83</td>\n",
              "      <td>312</td>\n",
              "      <td>47.58</td>\n",
              "      <td>280.8</td>\n",
              "    </tr>\n",
              "    <tr>\n",
              "      <th>1</th>\n",
              "      <td>Nath</td>\n",
              "      <td>25</td>\n",
              "      <td>1.55</td>\n",
              "      <td>300</td>\n",
              "      <td>38.75</td>\n",
              "      <td>270.0</td>\n",
              "    </tr>\n",
              "    <tr>\n",
              "      <th>2</th>\n",
              "      <td>Natan</td>\n",
              "      <td>20</td>\n",
              "      <td>1.76</td>\n",
              "      <td>240</td>\n",
              "      <td>35.20</td>\n",
              "      <td>216.0</td>\n",
              "    </tr>\n",
              "  </tbody>\n",
              "</table>\n",
              "</div>"
            ],
            "text/plain": [
              "     nome  idade  altura  idade_meses  idade_altura  descontado\n",
              "0  Filipe     26    1.83          312         47.58       280.8\n",
              "1    Nath     25    1.55          300         38.75       270.0\n",
              "2   Natan     20    1.76          240         35.20       216.0"
            ]
          },
          "execution_count": 6,
          "metadata": {},
          "output_type": "execute_result"
        }
      ],
      "source": [
        "# Appling a python function with a lambda function in a dataframe\n",
        "df['descontado'] = df['idade_meses'].apply(lambda idade_meses: desconto(idade_meses))\n",
        "df"
      ]
    },
    {
      "cell_type": "code",
      "execution_count": 7,
      "metadata": {
        "colab": {
          "base_uri": "https://localhost:8080/"
        },
        "id": "kOlG89VyCuOG",
        "outputId": "c82e4580-d695-4274-ad83-d3a331de654e"
      },
      "outputs": [
        {
          "name": "stdout",
          "output_type": "stream",
          "text": [
            "   column1  column2\n",
            "0        1        4\n",
            "1        2        5\n",
            "2        3        6\n",
            "Result with axis=1:\n",
            "0    5\n",
            "1    7\n",
            "2    9\n",
            "dtype: int64\n",
            "\n",
            "Result with axis=0:\n",
            "0     9\n",
            "1    10\n",
            "2    11\n",
            "Name: column2, dtype: int64\n"
          ]
        }
      ],
      "source": [
        "# Sample DataFrame\n",
        "df = pd.DataFrame({'column1': [1, 2, 3],\n",
        "                   'column2': [4, 5, 6]})\n",
        "print(df)\n",
        "\n",
        "# Applying a lambda function along columns (axis=1)\n",
        "result_axis_1 = df.apply(lambda row: row['column1'] + row['column2'], axis=1)\n",
        "print(\"Result with axis=1:\")\n",
        "print(result_axis_1)\n",
        "\n",
        "# Applying a lambda function along rows (axis=0)\n",
        "result_axis_0 = df['column2'].apply(lambda column2: column2 + 5)\n",
        "print(\"\\nResult with axis=0:\")\n",
        "print(result_axis_0)"
      ]
    },
    {
      "cell_type": "code",
      "execution_count": 8,
      "metadata": {
        "colab": {
          "base_uri": "https://localhost:8080/"
        },
        "id": "XNlyCbuaD8vj",
        "outputId": "40394370-04c6-4b8b-b93a-cc6fba383c77"
      },
      "outputs": [
        {
          "name": "stdout",
          "output_type": "stream",
          "text": [
            "   column1  column2  column3\n",
            "0        1        4        7\n",
            "1        2        5        8\n",
            "2        3        6        9\n",
            "Result with axis=1:\n",
            "   column1  column2  column3  axis_1_1\n",
            "0        1        4        7         7\n",
            "1        2        5        8        16\n",
            "2        3        6        9        27\n",
            "   column1  column2  column3  axis_1_1  axis_1_2\n",
            "0        1        4        7         7         7\n",
            "1        2        5        8        16        16\n",
            "2        3        6        9        27        27\n",
            "   column1  column2  column3  axis_1_1  axis_1_2  axis_1_3\n",
            "0        1        4        7         7         7        21\n",
            "1        2        5        8        16        16        22\n",
            "2        3        6        9        27        27        23\n",
            "   column1  column2  column3  axis_1_1  axis_1_2  axis_1_3  axis_1_4\n",
            "0        1        4        7         7         7        21        21\n",
            "1        2        5        8        16        16        22        22\n",
            "2        3        6        9        27        27        23        23\n",
            "   column1  column2  column3  axis_1_1  axis_1_2  axis_1_3  axis_1_4\n",
            "0        1        4        7         7         7        21        21\n",
            "1        2        5        8        16        16        22        22\n",
            "2        3        6        9        27        27        23        23\n",
            "3        6       15       24        50        50        66        66\n",
            "   column1  column2  column3  axis_1_1  axis_1_2  axis_1_3  axis_1_4\n",
            "0        1        4        7         7         7        21        21\n",
            "1        2        5        8        16        16        22        22\n",
            "2        3        6        9        27        27        23        23\n",
            "3        6       15       24        50        50        66        66\n",
            "4        4       10       16        34        34        44        44\n"
          ]
        }
      ],
      "source": [
        "# Sample DataFrame\n",
        "df = pd.DataFrame({'column1': [1, 2, 3],\n",
        "                   'column2': [4, 5, 6],\n",
        "                   'column3': [7, 8, 9]})\n",
        "print(df)\n",
        "\n",
        "# For each row, multiplying column1 and column3, creating another column with the result\n",
        "df['axis_1_1'] = df.apply(lambda row: row['column1'] * row['column3'], axis=1)\n",
        "print(\"Result with axis=1:\")\n",
        "print(df)\n",
        "\n",
        "# Geting the same result as above without lambda\n",
        "df['axis_1_2'] = df['column1'] * df['column3']\n",
        "print(df)\n",
        "\n",
        "# For each row, sum 20 to the value of column1, creating another column with the result\n",
        "df['axis_1_3'] = df.apply(lambda row: row['column1'] + 20, axis=1)\n",
        "print(df)\n",
        "\n",
        "# Geting the same result as above without lambda\n",
        "df['axis_1_4'] = df['column1'] + 20\n",
        "print(df)\n",
        "\n",
        "# For each column, apply the sum function to all the column values. The result is a Series stored in a variable\n",
        "result_axis_0 = df.apply(lambda column: column.sum(), axis=0)\n",
        "# Include the result Series as a new row to the dataframe\n",
        "df = pd.concat([df, pd.DataFrame(result_axis_0).T], ignore_index=True)\n",
        "print(df)\n",
        "\n",
        "# For each column, sum the values of first and third columns. The result is a Series stored in a variable\n",
        "result_axis_0_ = df.apply(lambda column: column[0]+ column[2], axis=0)\n",
        "# Include the result Series as a new row to the dataframe\n",
        "df = pd.concat([df, pd.DataFrame(result_axis_0_).T], ignore_index=True)\n",
        "print(df)"
      ]
    },
    {
      "cell_type": "code",
      "execution_count": 9,
      "metadata": {
        "colab": {
          "base_uri": "https://localhost:8080/",
          "height": 269
        },
        "id": "PqxyUoggKZLU",
        "outputId": "10bf93e6-c961-45a2-e9ef-27ce0944edde"
      },
      "outputs": [
        {
          "data": {
            "text/html": [
              "<div>\n",
              "<style scoped>\n",
              "    .dataframe tbody tr th:only-of-type {\n",
              "        vertical-align: middle;\n",
              "    }\n",
              "\n",
              "    .dataframe tbody tr th {\n",
              "        vertical-align: top;\n",
              "    }\n",
              "\n",
              "    .dataframe thead th {\n",
              "        text-align: right;\n",
              "    }\n",
              "</style>\n",
              "<table border=\"1\" class=\"dataframe\">\n",
              "  <thead>\n",
              "    <tr style=\"text-align: right;\">\n",
              "      <th></th>\n",
              "      <th>0</th>\n",
              "    </tr>\n",
              "  </thead>\n",
              "  <tbody>\n",
              "    <tr>\n",
              "      <th>column1</th>\n",
              "      <td>4</td>\n",
              "    </tr>\n",
              "    <tr>\n",
              "      <th>column2</th>\n",
              "      <td>10</td>\n",
              "    </tr>\n",
              "    <tr>\n",
              "      <th>column3</th>\n",
              "      <td>16</td>\n",
              "    </tr>\n",
              "    <tr>\n",
              "      <th>axis_1_1</th>\n",
              "      <td>34</td>\n",
              "    </tr>\n",
              "    <tr>\n",
              "      <th>axis_1_2</th>\n",
              "      <td>34</td>\n",
              "    </tr>\n",
              "    <tr>\n",
              "      <th>axis_1_3</th>\n",
              "      <td>44</td>\n",
              "    </tr>\n",
              "    <tr>\n",
              "      <th>axis_1_4</th>\n",
              "      <td>44</td>\n",
              "    </tr>\n",
              "  </tbody>\n",
              "</table>\n",
              "</div>"
            ],
            "text/plain": [
              "           0\n",
              "column1    4\n",
              "column2   10\n",
              "column3   16\n",
              "axis_1_1  34\n",
              "axis_1_2  34\n",
              "axis_1_3  44\n",
              "axis_1_4  44"
            ]
          },
          "execution_count": 9,
          "metadata": {},
          "output_type": "execute_result"
        }
      ],
      "source": [
        "# Undestantion the format of the valiable \"result_axis_0_\"\n",
        "column = pd.DataFrame(result_axis_0_)\n",
        "column"
      ]
    },
    {
      "cell_type": "code",
      "execution_count": 10,
      "metadata": {
        "colab": {
          "base_uri": "https://localhost:8080/",
          "height": 89
        },
        "id": "JTgVUNw6K-cJ",
        "outputId": "c0d02d6d-1ab9-40f7-f6f0-b5bc78aa297f"
      },
      "outputs": [
        {
          "data": {
            "text/html": [
              "<div>\n",
              "<style scoped>\n",
              "    .dataframe tbody tr th:only-of-type {\n",
              "        vertical-align: middle;\n",
              "    }\n",
              "\n",
              "    .dataframe tbody tr th {\n",
              "        vertical-align: top;\n",
              "    }\n",
              "\n",
              "    .dataframe thead th {\n",
              "        text-align: right;\n",
              "    }\n",
              "</style>\n",
              "<table border=\"1\" class=\"dataframe\">\n",
              "  <thead>\n",
              "    <tr style=\"text-align: right;\">\n",
              "      <th></th>\n",
              "      <th>column1</th>\n",
              "      <th>column2</th>\n",
              "      <th>column3</th>\n",
              "      <th>axis_1_1</th>\n",
              "      <th>axis_1_2</th>\n",
              "      <th>axis_1_3</th>\n",
              "      <th>axis_1_4</th>\n",
              "    </tr>\n",
              "  </thead>\n",
              "  <tbody>\n",
              "    <tr>\n",
              "      <th>0</th>\n",
              "      <td>4</td>\n",
              "      <td>10</td>\n",
              "      <td>16</td>\n",
              "      <td>34</td>\n",
              "      <td>34</td>\n",
              "      <td>44</td>\n",
              "      <td>44</td>\n",
              "    </tr>\n",
              "  </tbody>\n",
              "</table>\n",
              "</div>"
            ],
            "text/plain": [
              "   column1  column2  column3  axis_1_1  axis_1_2  axis_1_3  axis_1_4\n",
              "0        4       10       16        34        34        44        44"
            ]
          },
          "execution_count": 10,
          "metadata": {},
          "output_type": "execute_result"
        }
      ],
      "source": [
        "# Transforming the format of the valiable \"result_axis_0_\"\n",
        "row = pd.DataFrame(result_axis_0_).T\n",
        "row"
      ]
    }
  ],
  "metadata": {
    "colab": {
      "provenance": []
    },
    "kernelspec": {
      "display_name": "Python 3",
      "name": "python3"
    },
    "language_info": {
      "codemirror_mode": {
        "name": "ipython",
        "version": 3
      },
      "file_extension": ".py",
      "mimetype": "text/x-python",
      "name": "python",
      "nbconvert_exporter": "python",
      "pygments_lexer": "ipython3",
      "version": "3.11.5"
    }
  },
  "nbformat": 4,
  "nbformat_minor": 0
}
